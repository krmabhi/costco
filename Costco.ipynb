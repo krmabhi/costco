{
 "cells": [
  {
   "cell_type": "code",
   "execution_count": null,
   "id": "5b9142d7",
   "metadata": {},
   "outputs": [],
   "source": [
    "from IPython.display import display\n",
    "import pandas as pd\n",
    "from ipywidgets import interact\n",
    "\n",
    "def calculate(A_individual_purchases, B_individual_purchases, subtotal, tax, previous_amount_due):\n",
    "    A_individual_purchases = eval(A_individual_purchases)\n",
    "    B_individual_purchases = eval(B_individual_purchases)\n",
    "    subtotal = float(subtotal)\n",
    "    tax = float(tax)\n",
    "    previous_amount_due = float(previous_amount_due)\n",
    "    common_items = subtotal - A_individual_purchases - B_individual_purchases\n",
    "    A_total = A_individual_purchases + common_items / 2\n",
    "    B_total = B_individual_purchases + common_items / 2\n",
    "    A_total_with_tax = A_total + A_total / subtotal * tax\n",
    "    B_total_with_tax = B_total + B_total / subtotal * tax\n",
    "    total_due_A = previous_amount_due + A_total_with_tax\n",
    "    df = pd.DataFrame({\n",
    "        \"Person\": ['A', 'B'],\n",
    "        \"Individual Items\": [A_individual_purchases, B_individual_purchases],\n",
    "        \"Common Items\": [common_items / 2, common_items / 2],\n",
    "        \"Subtotal\": [A_total, B_total],\n",
    "        \"Tax\": [A_total / subtotal * tax, B_total / subtotal * tax],\n",
    "        \"Total with Tax\": [A_total_with_tax, B_total_with_tax],\n",
    "        \"Previous Amount Due\": [previous_amount_due, 0],\n",
    "        \"Total Due\": [total_due_A, 0]\n",
    "    })\n",
    "    display(df)\n",
    "\n",
    "interact(calculate, A_individual_purchases=\"14.99+(9.99-2.20)\", B_individual_purchases=\"23.99\", subtotal=\"79.83\", tax=\"2.37\", previous_amount_due=\"112.73\")\n"
   ]
  }
 ],
 "metadata": {
  "kernelspec": {
   "display_name": "Python 3",
   "language": "python",
   "name": "python3"
  },
  "language_info": {
   "codemirror_mode": {
    "name": "ipython",
    "version": 3
   },
   "file_extension": ".py",
   "mimetype": "text/x-python",
   "name": "python",
   "nbconvert_exporter": "python",
   "pygments_lexer": "ipython3",
   "version": "3.8.5"
  }
 },
 "nbformat": 4,
 "nbformat_minor": 5
}
